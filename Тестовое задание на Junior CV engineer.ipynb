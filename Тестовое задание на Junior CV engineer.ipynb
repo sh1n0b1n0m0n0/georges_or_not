{
 "cells": [
  {
   "cell_type": "code",
   "execution_count": 1,
   "id": "addressed-korea",
   "metadata": {},
   "outputs": [],
   "source": [
    "import numpy as np\n",
    "import pandas as pd\n",
    "import urllib.request\n",
    "import requests\n",
    "import os\n",
    "from sklearn.model_selection import train_test_split"
   ]
  },
  {
   "cell_type": "code",
   "execution_count": 2,
   "id": "attractive-exemption",
   "metadata": {},
   "outputs": [],
   "source": [
    "df_georges = pd.read_csv('georges.csv')\n",
    "df_non_georges = pd.read_csv('non_georges.csv')"
   ]
  },
  {
   "cell_type": "code",
   "execution_count": 3,
   "id": "alpine-concentration",
   "metadata": {},
   "outputs": [
    {
     "data": {
      "text/html": [
       "<div>\n",
       "<style scoped>\n",
       "    .dataframe tbody tr th:only-of-type {\n",
       "        vertical-align: middle;\n",
       "    }\n",
       "\n",
       "    .dataframe tbody tr th {\n",
       "        vertical-align: top;\n",
       "    }\n",
       "\n",
       "    .dataframe thead th {\n",
       "        text-align: right;\n",
       "    }\n",
       "</style>\n",
       "<table border=\"1\" class=\"dataframe\">\n",
       "  <thead>\n",
       "    <tr style=\"text-align: right;\">\n",
       "      <th></th>\n",
       "      <th>https://i.pinimg.com/736x/17/0d/5b/170d5b93d80d247be60f22ca1216bef7.jpg</th>\n",
       "    </tr>\n",
       "  </thead>\n",
       "  <tbody>\n",
       "    <tr>\n",
       "      <th>0</th>\n",
       "      <td>https://i.pinimg.com/736x/47/b9/9a/47b99a2ddcd...</td>\n",
       "    </tr>\n",
       "    <tr>\n",
       "      <th>1</th>\n",
       "      <td>https://i.pinimg.com/736x/90/e8/90/90e890f054b...</td>\n",
       "    </tr>\n",
       "    <tr>\n",
       "      <th>2</th>\n",
       "      <td>https://i.pinimg.com/736x/0a/71/6f/0a716f6f14e...</td>\n",
       "    </tr>\n",
       "    <tr>\n",
       "      <th>3</th>\n",
       "      <td>https://i.pinimg.com/736x/f1/95/be/f195bea0b78...</td>\n",
       "    </tr>\n",
       "    <tr>\n",
       "      <th>4</th>\n",
       "      <td>https://i.pinimg.com/736x/78/da/54/78da54b8fa9...</td>\n",
       "    </tr>\n",
       "  </tbody>\n",
       "</table>\n",
       "</div>"
      ],
      "text/plain": [
       "  https://i.pinimg.com/736x/17/0d/5b/170d5b93d80d247be60f22ca1216bef7.jpg\n",
       "0  https://i.pinimg.com/736x/47/b9/9a/47b99a2ddcd...                     \n",
       "1  https://i.pinimg.com/736x/90/e8/90/90e890f054b...                     \n",
       "2  https://i.pinimg.com/736x/0a/71/6f/0a716f6f14e...                     \n",
       "3  https://i.pinimg.com/736x/f1/95/be/f195bea0b78...                     \n",
       "4  https://i.pinimg.com/736x/78/da/54/78da54b8fa9...                     "
      ]
     },
     "execution_count": 3,
     "metadata": {},
     "output_type": "execute_result"
    }
   ],
   "source": [
    "df_georges.head()"
   ]
  },
  {
   "cell_type": "code",
   "execution_count": 4,
   "id": "vietnamese-junction",
   "metadata": {},
   "outputs": [
    {
     "data": {
      "text/html": [
       "<div>\n",
       "<style scoped>\n",
       "    .dataframe tbody tr th:only-of-type {\n",
       "        vertical-align: middle;\n",
       "    }\n",
       "\n",
       "    .dataframe tbody tr th {\n",
       "        vertical-align: top;\n",
       "    }\n",
       "\n",
       "    .dataframe thead th {\n",
       "        text-align: right;\n",
       "    }\n",
       "</style>\n",
       "<table border=\"1\" class=\"dataframe\">\n",
       "  <thead>\n",
       "    <tr style=\"text-align: right;\">\n",
       "      <th></th>\n",
       "      <th>https://i.pinimg.com/736x/fd/65/bb/fd65bb679b7975ab73867d62fba2e991.jpg</th>\n",
       "    </tr>\n",
       "  </thead>\n",
       "  <tbody>\n",
       "    <tr>\n",
       "      <th>0</th>\n",
       "      <td>https://i.pinimg.com/736x/78/63/a2/7863a2404af...</td>\n",
       "    </tr>\n",
       "    <tr>\n",
       "      <th>1</th>\n",
       "      <td>https://i.pinimg.com/736x/bc/3a/f4/bc3af41444c...</td>\n",
       "    </tr>\n",
       "    <tr>\n",
       "      <th>2</th>\n",
       "      <td>https://i.pinimg.com/736x/46/a3/59/46a3595eec7...</td>\n",
       "    </tr>\n",
       "    <tr>\n",
       "      <th>3</th>\n",
       "      <td>https://i.pinimg.com/736x/54/b2/ef/54b2ef7af71...</td>\n",
       "    </tr>\n",
       "    <tr>\n",
       "      <th>4</th>\n",
       "      <td>https://i.pinimg.com/736x/f6/f6/57/f6f6577d0cb...</td>\n",
       "    </tr>\n",
       "  </tbody>\n",
       "</table>\n",
       "</div>"
      ],
      "text/plain": [
       "  https://i.pinimg.com/736x/fd/65/bb/fd65bb679b7975ab73867d62fba2e991.jpg\n",
       "0  https://i.pinimg.com/736x/78/63/a2/7863a2404af...                     \n",
       "1  https://i.pinimg.com/736x/bc/3a/f4/bc3af41444c...                     \n",
       "2  https://i.pinimg.com/736x/46/a3/59/46a3595eec7...                     \n",
       "3  https://i.pinimg.com/736x/54/b2/ef/54b2ef7af71...                     \n",
       "4  https://i.pinimg.com/736x/f6/f6/57/f6f6577d0cb...                     "
      ]
     },
     "execution_count": 4,
     "metadata": {},
     "output_type": "execute_result"
    }
   ],
   "source": [
    "df_non_georges.head()"
   ]
  },
  {
   "cell_type": "code",
   "execution_count": 5,
   "id": "surprising-corner",
   "metadata": {},
   "outputs": [
    {
     "name": "stdout",
     "output_type": "stream",
     "text": [
      "(2680, 1)\n",
      "(3365, 1)\n"
     ]
    }
   ],
   "source": [
    "print(df_georges.shape)\n",
    "print(df_non_georges.shape)"
   ]
  },
  {
   "cell_type": "code",
   "execution_count": 6,
   "id": "trying-combine",
   "metadata": {},
   "outputs": [
    {
     "data": {
      "text/plain": [
       "https://i.pinimg.com/736x/17/0d/5b/170d5b93d80d247be60f22ca1216bef7.jpg    0\n",
       "dtype: int64"
      ]
     },
     "execution_count": 6,
     "metadata": {},
     "output_type": "execute_result"
    }
   ],
   "source": [
    "df_georges.isnull().sum()"
   ]
  },
  {
   "cell_type": "code",
   "execution_count": 7,
   "id": "unexpected-history",
   "metadata": {},
   "outputs": [
    {
     "data": {
      "text/plain": [
       "https://i.pinimg.com/736x/fd/65/bb/fd65bb679b7975ab73867d62fba2e991.jpg    0\n",
       "dtype: int64"
      ]
     },
     "execution_count": 7,
     "metadata": {},
     "output_type": "execute_result"
    }
   ],
   "source": [
    "df_non_georges.isnull().sum()"
   ]
  },
  {
   "cell_type": "code",
   "execution_count": 10,
   "id": "large-adams",
   "metadata": {},
   "outputs": [
    {
     "name": "stdout",
     "output_type": "stream",
     "text": [
      "Successfully created the directory C:\\Users\\kamikaze666\\Python_3.7_projects\\test_cv_engineer\n"
     ]
    }
   ],
   "source": [
    "root_path = os.getcwd()\n",
    "folders = ['test', 'train', 'val']\n",
    "sub_folders = ['georges', 'non_georges']\n",
    "try:\n",
    "    for folder in folders:\n",
    "        for sub_name in sub_folders:\n",
    "            os.makedirs(os.path.join(folder, sub_name))\n",
    "except OSError:\n",
    "    print (\"Creation of the directory %s failed\" % root_path)\n",
    "else:\n",
    "    print (\"Successfully created the directory %s\" % root_path)"
   ]
  },
  {
   "cell_type": "code",
   "execution_count": 15,
   "id": "light-gregory",
   "metadata": {},
   "outputs": [],
   "source": [
    "g_x_train, g_x_test = train_test_split(df_georges, test_size=0.3)\n",
    "g_x_test, g_x_val = train_test_split(g_x_test, test_size=0.5)"
   ]
  },
  {
   "cell_type": "code",
   "execution_count": 19,
   "id": "tender-brief",
   "metadata": {},
   "outputs": [],
   "source": [
    "non_x_train, non_x_test = train_test_split(df_non_georges, test_size=0.3)\n",
    "non_x_test, non_x_val = train_test_split(non_x_test, test_size=0.5)"
   ]
  },
  {
   "cell_type": "code",
   "execution_count": 20,
   "id": "jewish-costume",
   "metadata": {},
   "outputs": [
    {
     "name": "stdout",
     "output_type": "stream",
     "text": [
      "(1876, 1)\n",
      "(402, 1)\n",
      "(402, 1)\n"
     ]
    }
   ],
   "source": [
    "print(g_x_train.shape)\n",
    "print(g_x_test.shape)\n",
    "print(g_x_val.shape)"
   ]
  },
  {
   "cell_type": "code",
   "execution_count": 21,
   "id": "independent-exemption",
   "metadata": {},
   "outputs": [
    {
     "name": "stdout",
     "output_type": "stream",
     "text": [
      "(2355, 1)\n",
      "(505, 1)\n",
      "(505, 1)\n"
     ]
    }
   ],
   "source": [
    "print(non_x_train.shape)\n",
    "print(non_x_test.shape)\n",
    "print(non_x_val.shape)"
   ]
  },
  {
   "cell_type": "code",
   "execution_count": 23,
   "id": "circular-section",
   "metadata": {},
   "outputs": [
    {
     "name": "stdout",
     "output_type": "stream",
     "text": [
      "C:\\Users\\kamikaze666\\Python_3.7_projects\\test_cv_engineer\\train\\georges\n"
     ]
    }
   ],
   "source": [
    "print('{}\\{}\\{}'.format(root_path, folders[1],sub_folders[0]))"
   ]
  },
  {
   "cell_type": "markdown",
   "id": "human-array",
   "metadata": {},
   "source": [
    "# Download Georges train, test, val sets"
   ]
  },
  {
   "cell_type": "code",
   "execution_count": 28,
   "id": "retained-solution",
   "metadata": {},
   "outputs": [],
   "source": [
    "def download_images(dataset, num_folder, num_subfolder):\n",
    "    folders = ['test', 'train', 'val']\n",
    "    sub_folders = ['georges', 'non_georges']\n",
    "    \n",
    "    for index, row in dataset.iterrows():\n",
    "        r = requests.get(row[0])\n",
    "        with open('{}\\{}\\{}'.format(folders[num_folder],\n",
    "                                    sub_folders[num_subfolder],\n",
    "                                    row[0].split('/')[-1]), 'wb') as f:\n",
    "                                        f.write(r.content)"
   ]
  },
  {
   "cell_type": "code",
   "execution_count": 24,
   "id": "excessive-decade",
   "metadata": {},
   "outputs": [
    {
     "name": "stdout",
     "output_type": "stream",
     "text": [
      "Beginning file download with requests\n"
     ]
    }
   ],
   "source": [
    "print('Beginning file download with requests')\n",
    "for index, row in g_x_train.iterrows():\n",
    "    r = requests.get(row[0])\n",
    "    with open('{}\\{}\\{}'.format(folders[1],sub_folders[0], row[0].split('/')[-1]), 'wb') as f:\n",
    "        f.write(r.content)"
   ]
  },
  {
   "cell_type": "code",
   "execution_count": 25,
   "id": "comfortable-terrorism",
   "metadata": {},
   "outputs": [
    {
     "name": "stdout",
     "output_type": "stream",
     "text": [
      "Beginning file download with requests\n"
     ]
    }
   ],
   "source": [
    "print('Beginning file download with requests')\n",
    "for index, row in g_x_test.iterrows():\n",
    "    r = requests.get(row[0])\n",
    "    with open('{}\\{}\\{}'.format(folders[0],sub_folders[0], row[0].split('/')[-1]), 'wb') as f:\n",
    "        f.write(r.content)"
   ]
  },
  {
   "cell_type": "code",
   "execution_count": 26,
   "id": "significant-revision",
   "metadata": {},
   "outputs": [
    {
     "name": "stdout",
     "output_type": "stream",
     "text": [
      "Beginning file download with requests\n"
     ]
    }
   ],
   "source": [
    "print('Beginning file download with requests')\n",
    "for index, row in g_x_val.iterrows():\n",
    "    r = requests.get(row[0])\n",
    "    with open('{}\\{}\\{}'.format(folders[2],sub_folders[0], row[0].split('/')[-1]), 'wb') as f:\n",
    "        f.write(r.content)"
   ]
  },
  {
   "cell_type": "markdown",
   "id": "superior-minister",
   "metadata": {},
   "source": [
    "# Download non Georges train, test, val sets"
   ]
  },
  {
   "cell_type": "code",
   "execution_count": 31,
   "id": "representative-article",
   "metadata": {},
   "outputs": [],
   "source": [
    "download_images(non_x_train, 1, 1)"
   ]
  },
  {
   "cell_type": "code",
   "execution_count": 29,
   "id": "remarkable-tobago",
   "metadata": {},
   "outputs": [],
   "source": [
    "download_images(non_x_test, 0, 1)"
   ]
  },
  {
   "cell_type": "code",
   "execution_count": 30,
   "id": "cognitive-medline",
   "metadata": {},
   "outputs": [],
   "source": [
    "download_images(non_x_val, 2, 1)"
   ]
  },
  {
   "cell_type": "markdown",
   "id": "experimental-introduction",
   "metadata": {},
   "source": [
    "# Simple Net initialization"
   ]
  },
  {
   "cell_type": "code",
   "execution_count": 8,
   "id": "initial-technical",
   "metadata": {},
   "outputs": [],
   "source": [
    "import torch\n",
    "import torch.nn as nn\n",
    "import torch.optim as optim\n",
    "import torch.utils.data\n",
    "import torch.nn.functional as F\n",
    "import torchvision\n",
    "from torchvision import transforms\n",
    "from PIL import Image, ImageFile\n",
    "\n",
    "ImageFile.LOAD_TRUNCATED_IMAGES=True"
   ]
  },
  {
   "cell_type": "code",
   "execution_count": 9,
   "id": "complex-sunset",
   "metadata": {},
   "outputs": [],
   "source": [
    "def check_image(path):\n",
    "    try:\n",
    "        im = Image.open(path)\n",
    "        return True\n",
    "    except:\n",
    "        return False"
   ]
  },
  {
   "cell_type": "code",
   "execution_count": 10,
   "id": "organized-friend",
   "metadata": {},
   "outputs": [
    {
     "name": "stdout",
     "output_type": "stream",
     "text": [
      "__Python VERSION: 3.8.5 (default, Sep  3 2020, 21:29:08) [MSC v.1916 64 bit (AMD64)]\n",
      "__pyTorch VERSION: 1.7.1\n",
      "__GPU: True\n",
      "__CUDNN VERSION: 7604\n",
      "__CUDNN ENABLE: True\n",
      "__Number CUDA Devices: 1\n"
     ]
    }
   ],
   "source": [
    "import sys\n",
    "print('__Python VERSION:', sys.version)\n",
    "print('__pyTorch VERSION:', torch.__version__)\n",
    "print('__GPU: {}'.format(torch.cuda.is_available()))\n",
    "print('__CUDNN VERSION:', torch.backends.cudnn.version())\n",
    "print('__CUDNN ENABLE: {}'.format(torch.backends.cudnn.enabled))\n",
    "print('__Number CUDA Devices:', torch.cuda.device_count())"
   ]
  },
  {
   "cell_type": "code",
   "execution_count": 11,
   "id": "heard-viewer",
   "metadata": {},
   "outputs": [],
   "source": [
    "img_transforms = transforms.Compose([\n",
    "                 transforms.Resize((64,64)),    \n",
    "                 transforms.ToTensor(),\n",
    "                 transforms.Normalize(mean=[0.485, 0.456, 0.406],\n",
    "                                       std=[0.229, 0.224, 0.225])])"
   ]
  },
  {
   "cell_type": "code",
   "execution_count": 12,
   "id": "guided-player",
   "metadata": {},
   "outputs": [],
   "source": [
    "train_data_path = \"./train/\"\n",
    "train_data = torchvision.datasets.ImageFolder(root=train_data_path,transform=img_transforms, is_valid_file=check_image)\n",
    "\n",
    "val_data_path = \"./val/\"\n",
    "val_data = torchvision.datasets.ImageFolder(root=val_data_path,transform=img_transforms, is_valid_file=check_image)\n",
    "\n",
    "test_data_path = \"./test/\"\n",
    "test_data = torchvision.datasets.ImageFolder(root=test_data_path,transform=img_transforms, is_valid_file=check_image)\n",
    "\n",
    "batch_size=64\n",
    "\n",
    "train_data_loader = torch.utils.data.DataLoader(train_data, batch_size=batch_size)\n",
    "val_data_loader  = torch.utils.data.DataLoader(val_data, batch_size=batch_size) \n",
    "test_data_loader  = torch.utils.data.DataLoader(test_data, batch_size=batch_size)"
   ]
  },
  {
   "cell_type": "code",
   "execution_count": 13,
   "id": "forced-expense",
   "metadata": {},
   "outputs": [],
   "source": [
    "class SimpleNet(nn.Module):\n",
    "\n",
    "    def __init__(self):\n",
    "        super(SimpleNet, self).__init__()\n",
    "        self.fc1 = nn.Linear(12288, 84)\n",
    "        self.fc2 = nn.Linear(84, 50)\n",
    "        self.fc3 = nn.Linear(50,2)\n",
    "    \n",
    "    def forward(self, x):\n",
    "        x = x.view(-1, 12288)\n",
    "        x = F.relu(self.fc1(x))\n",
    "        x = F.relu(self.fc2(x))\n",
    "        x = self.fc3(x)\n",
    "        return x"
   ]
  },
  {
   "cell_type": "code",
   "execution_count": 14,
   "id": "standing-celebration",
   "metadata": {},
   "outputs": [],
   "source": [
    "simplenet = SimpleNet()"
   ]
  },
  {
   "cell_type": "code",
   "execution_count": null,
   "id": "organized-bristol",
   "metadata": {},
   "outputs": [],
   "source": [
    "simplenet.load_state_dict(torch.load(\"./tmp/simplenet.pth\"))"
   ]
  },
  {
   "cell_type": "code",
   "execution_count": 15,
   "id": "offensive-alberta",
   "metadata": {},
   "outputs": [],
   "source": [
    "optimizer = optim.Adam(simplenet.parameters(), lr=0.001)"
   ]
  },
  {
   "cell_type": "code",
   "execution_count": 16,
   "id": "veterinary-express",
   "metadata": {},
   "outputs": [
    {
     "data": {
      "text/plain": [
       "False"
      ]
     },
     "execution_count": 16,
     "metadata": {},
     "output_type": "execute_result"
    }
   ],
   "source": [
    "check_image(val_data_path)"
   ]
  },
  {
   "cell_type": "code",
   "execution_count": 17,
   "id": "coordinated-digit",
   "metadata": {},
   "outputs": [
    {
     "data": {
      "text/plain": [
       "SimpleNet(\n",
       "  (fc1): Linear(in_features=12288, out_features=84, bias=True)\n",
       "  (fc2): Linear(in_features=84, out_features=50, bias=True)\n",
       "  (fc3): Linear(in_features=50, out_features=2, bias=True)\n",
       ")"
      ]
     },
     "execution_count": 17,
     "metadata": {},
     "output_type": "execute_result"
    }
   ],
   "source": [
    "if torch.cuda.is_available():\n",
    "    device = torch.device(\"cuda\") \n",
    "else:\n",
    "    device = torch.device(\"cpu\")\n",
    "\n",
    "simplenet.to(device)"
   ]
  },
  {
   "cell_type": "code",
   "execution_count": 18,
   "id": "corresponding-trigger",
   "metadata": {},
   "outputs": [],
   "source": [
    "def train(model, optimizer, loss_fn, train_loader, val_loader, epochs=20, device=\"cpu\"):\n",
    "    for epoch in range(1, epochs+1):\n",
    "        training_loss = 0.0\n",
    "        valid_loss = 0.0\n",
    "        model.train()\n",
    "        for batch in train_loader:\n",
    "            optimizer.zero_grad()\n",
    "            inputs, targets = batch\n",
    "            inputs = inputs.to(device)\n",
    "            targets = targets.to(device)\n",
    "            output = model(inputs)\n",
    "            loss = loss_fn(output, targets)\n",
    "            loss.backward()\n",
    "            optimizer.step()\n",
    "            training_loss += loss.data.item() * inputs.size(0)\n",
    "        training_loss /= len(train_loader.dataset)\n",
    "        \n",
    "        model.eval()\n",
    "        num_correct = 0 \n",
    "        num_examples = 0\n",
    "        for batch in val_loader:\n",
    "            inputs, targets = batch\n",
    "            inputs = inputs.to(device)\n",
    "            output = model(inputs)\n",
    "            targets = targets.to(device)\n",
    "            loss = loss_fn(output,targets) \n",
    "            valid_loss += loss.data.item() * inputs.size(0)\n",
    "            correct = torch.eq(torch.max(F.softmax(output, dim=1), dim=1)[1], targets)\n",
    "            num_correct += torch.sum(correct).item()\n",
    "            num_examples += correct.shape[0]\n",
    "        valid_loss /= len(val_loader.dataset)\n",
    "\n",
    "        print('Epoch: {}, Training Loss: {:.2f}, Validation Loss: {:.2f}, accuracy = {:.2f}'.format(epoch, training_loss,\n",
    "        valid_loss, num_correct / num_examples))"
   ]
  },
  {
   "cell_type": "code",
   "execution_count": 21,
   "id": "joined-hebrew",
   "metadata": {},
   "outputs": [
    {
     "name": "stdout",
     "output_type": "stream",
     "text": [
      "Epoch: 1, Training Loss: 0.95, Validation Loss: 1.27, accuracy = 0.62\n",
      "Epoch: 2, Training Loss: 0.84, Validation Loss: 0.62, accuracy = 0.65\n",
      "Epoch: 3, Training Loss: 0.65, Validation Loss: 0.60, accuracy = 0.66\n",
      "Epoch: 4, Training Loss: 0.63, Validation Loss: 0.59, accuracy = 0.66\n",
      "Epoch: 5, Training Loss: 0.59, Validation Loss: 1.31, accuracy = 0.66\n",
      "Epoch: 6, Training Loss: 0.73, Validation Loss: 2.01, accuracy = 0.65\n",
      "Epoch: 7, Training Loss: 0.84, Validation Loss: 0.81, accuracy = 0.65\n",
      "Epoch: 8, Training Loss: 0.67, Validation Loss: 1.00, accuracy = 0.67\n",
      "Epoch: 9, Training Loss: 0.68, Validation Loss: 0.71, accuracy = 0.66\n",
      "Epoch: 10, Training Loss: 0.66, Validation Loss: 0.59, accuracy = 0.67\n"
     ]
    }
   ],
   "source": [
    "train(simplenet, optimizer,torch.nn.CrossEntropyLoss(), train_data_loader,val_data_loader, epochs=10, device=device)"
   ]
  },
  {
   "cell_type": "code",
   "execution_count": 24,
   "id": "interpreted-oasis",
   "metadata": {},
   "outputs": [],
   "source": [
    "torch.save(simplenet.state_dict(), os.path.join(\"./tmp\", \"simplenet.pth\"))"
   ]
  },
  {
   "cell_type": "code",
   "execution_count": 22,
   "id": "editorial-eugene",
   "metadata": {},
   "outputs": [
    {
     "name": "stdout",
     "output_type": "stream",
     "text": [
      "georges\n"
     ]
    }
   ],
   "source": [
    "labels = ['georges','non_georges']\n",
    "\n",
    "img = Image.open(\"./test/georges/9c611ae2bd3af5d6ea686aef9252ff62.jpg\") \n",
    "img = img_transforms(img).to(device)\n",
    "\n",
    "simplenet.eval()\n",
    "prediction = F.softmax(simplenet(img), dim=1)\n",
    "prediction = prediction.argmax()\n",
    "print(labels[prediction])"
   ]
  }
 ],
 "metadata": {
  "kernelspec": {
   "display_name": "Python 3",
   "language": "python",
   "name": "python3"
  },
  "language_info": {
   "codemirror_mode": {
    "name": "ipython",
    "version": 3
   },
   "file_extension": ".py",
   "mimetype": "text/x-python",
   "name": "python",
   "nbconvert_exporter": "python",
   "pygments_lexer": "ipython3",
   "version": "3.8.5"
  }
 },
 "nbformat": 4,
 "nbformat_minor": 5
}
